{
  "nbformat": 4,
  "nbformat_minor": 0,
  "metadata": {
    "colab": {
      "name": "Project1(Messi_Vs_Ronaldo0.ipynb",
      "provenance": [],
      "collapsed_sections": [],
      "include_colab_link": true
    },
    "kernelspec": {
      "name": "python3",
      "display_name": "Python 3"
    },
    "language_info": {
      "name": "python"
    }
  },
  "cells": [
    {
      "cell_type": "markdown",
      "metadata": {
        "id": "view-in-github",
        "colab_type": "text"
      },
      "source": [
        "<a href=\"https://colab.research.google.com/github/shitanshu-20/shitanshu-20/blob/main/Project1(Messi_Vs_Ronaldo0.ipynb\" target=\"_parent\"><img src=\"https://colab.research.google.com/assets/colab-badge.svg\" alt=\"Open In Colab\"/></a>"
      ]
    },
    {
      "cell_type": "code",
      "metadata": {
        "id": "F9KG74-yMViA"
      },
      "source": [
        "# Import required libraries:\n",
        "import json\n",
        "import pandas as pd\n",
        "from bs4 import BeautifulSoup\n",
        "from urllib.request import urlopen\n",
        "from sklearn.preprocessing import MinMaxScaler\n",
        "\n",
        "# Import plotting libraries:\n",
        "import seaborn as sns\n",
        "import plotly.express as px\n",
        "import matplotlib.pyplot as plt\n",
        "import plotly.graph_objects as go\n",
        "from matplotlib.patches import Arc\n",
        "from plotly.subplots import make_subplots"
      ],
      "execution_count": null,
      "outputs": []
    },
    {
      "cell_type": "code",
      "metadata": {
        "id": "2oOwmCF8Mnk-"
      },
      "source": [
        "# Scrape Cristiano player stats:\n",
        "cris_scrape_url = \"https://understat.com/player/2371\"\n",
        "page_connect = urlopen(cris_scrape_url)\n",
        "page_html = BeautifulSoup(page_connect, \"html.parser\")\n",
        "\n",
        "json_raw_string = page_html.findAll(name=\"script\")[1].text\n",
        "start_ind = json_raw_string.index(\"\\\\\")\n",
        "stop_ind = json_raw_string.index(\"')\")\n",
        "\n",
        "json_data = json_raw_string[start_ind:stop_ind]\n",
        "json_data = json_data.encode(\"utf8\").decode(\"unicode_escape\")\n",
        "\n",
        "cris_season_wise_meta_df = pd.json_normalize(json.loads(json_data)[\"season\"])\n",
        "cris_season_wise_meta_df.insert(0, \"Player\", \"Cristiano\")"
      ],
      "execution_count": null,
      "outputs": []
    },
    {
      "cell_type": "code",
      "metadata": {
        "id": "aFFjFUc7M0-V"
      },
      "source": [
        "cris_season_wise_meta_df"
      ],
      "execution_count": null,
      "outputs": []
    },
    {
      "cell_type": "code",
      "metadata": {
        "id": "sW9lNzwGNCeA"
      },
      "source": [
        "# Scrape Cristiano shot data:\n",
        "json_raw_string = page_html.findAll(name=\"script\")[3].text\n",
        "start_ind = json_raw_string.index(\"\\\\\")\n",
        "stop_ind = json_raw_string.index(\"')\")\n",
        "\n",
        "json_data = json_raw_string[start_ind:stop_ind]\n",
        "json_data = json_data.encode(\"utf8\").decode(\"unicode_escape\")\n",
        "\n",
        "cris_shots_df = pd.json_normalize(json.loads(json_data))\n",
        "cris_shots_df.insert(0, \"Player\", \"Cristiano\")"
      ],
      "execution_count": null,
      "outputs": []
    },
    {
      "cell_type": "code",
      "metadata": {
        "id": "9A-u-ki8NNe_"
      },
      "source": [
        "cris_shots_df"
      ],
      "execution_count": null,
      "outputs": []
    },
    {
      "cell_type": "code",
      "metadata": {
        "id": "YSqC41CqNd1j"
      },
      "source": [
        "# Scrape Messi player stats:\n",
        "messi_scrape_url = \"https://understat.com/player/2097\"\n",
        "page_connect = urlopen(messi_scrape_url)\n",
        "page_html = BeautifulSoup(page_connect, \"html.parser\")\n",
        "\n",
        "json_raw_string = page_html.findAll(name=\"script\")[1].text\n",
        "start_ind = json_raw_string.index(\"\\\\\")\n",
        "stop_ind = json_raw_string.index(\"')\")\n",
        "\n",
        "json_data = json_raw_string[start_ind:stop_ind]\n",
        "json_data = json_data.encode(\"utf8\").decode(\"unicode_escape\")\n",
        "\n",
        "messi_season_wise_meta_df = pd.json_normalize(json.loads(json_data)[\"season\"])\n",
        "messi_season_wise_meta_df.insert(0, \"Player\", \"Messi\")"
      ],
      "execution_count": null,
      "outputs": []
    },
    {
      "cell_type": "code",
      "metadata": {
        "id": "Oh92WOutNqdV"
      },
      "source": [
        "messi_season_wise_meta_df"
      ],
      "execution_count": null,
      "outputs": []
    },
    {
      "cell_type": "code",
      "metadata": {
        "id": "hyGOz0D5N3fS"
      },
      "source": [
        "# Scrape Messi shot data:\n",
        "json_raw_string = page_html.findAll(name=\"script\")[3].text\n",
        "start_ind = json_raw_string.index(\"\\\\\")\n",
        "stop_ind = json_raw_string.index(\"')\")\n",
        "\n",
        "json_data = json_raw_string[start_ind:stop_ind]\n",
        "json_data = json_data.encode(\"utf8\").decode(\"unicode_escape\")\n",
        "\n",
        "messi_shots_df = pd.json_normalize(json.loads(json_data))\n",
        "messi_shots_df.insert(0, \"Player\", \"Messi\")"
      ],
      "execution_count": null,
      "outputs": []
    },
    {
      "cell_type": "code",
      "metadata": {
        "id": "AWu9uP9DOBFM"
      },
      "source": [
        "messi_shots_df"
      ],
      "execution_count": null,
      "outputs": []
    },
    {
      "cell_type": "code",
      "metadata": {
        "id": "wvdC3pTEOG7l"
      },
      "source": [
        "season_wise_meta_df = cris_season_wise_meta_df.append(messi_season_wise_meta_df)\n",
        "season_wise_meta_df"
      ],
      "execution_count": null,
      "outputs": []
    },
    {
      "cell_type": "code",
      "metadata": {
        "id": "FYUNDfHfORk1"
      },
      "source": [
        "shots_df = cris_shots_df.append(messi_shots_df)\n",
        "shots_df"
      ],
      "execution_count": null,
      "outputs": []
    },
    {
      "cell_type": "code",
      "metadata": {
        "id": "RyI8cJXzOe4-"
      },
      "source": [
        "shots_df.describe()"
      ],
      "execution_count": null,
      "outputs": []
    },
    {
      "cell_type": "code",
      "metadata": {
        "id": "M-8m0YalOr8C"
      },
      "source": [
        "season_wise_meta_df.info()"
      ],
      "execution_count": null,
      "outputs": []
    },
    {
      "cell_type": "code",
      "metadata": {
        "id": "TUJ0YYkSO7Km"
      },
      "source": [
        "season_wise_meta_df = season_wise_meta_df.apply(pd.to_numeric, errors=\"ignore\")"
      ],
      "execution_count": null,
      "outputs": []
    },
    {
      "cell_type": "code",
      "metadata": {
        "id": "l34geltOPEIy"
      },
      "source": [
        "season_wise_meta_df = season_wise_meta_df.round(2)"
      ],
      "execution_count": null,
      "outputs": []
    },
    {
      "cell_type": "code",
      "metadata": {
        "id": "AOYhRwJYPJgR"
      },
      "source": [
        "season_wise_meta_df.describe().round(1)"
      ],
      "execution_count": null,
      "outputs": []
    },
    {
      "cell_type": "code",
      "metadata": {
        "id": "V_CydsExPQH7"
      },
      "source": [
        "season_wise_meta_df.groupby([\"Player\"]).describe().round(1)"
      ],
      "execution_count": null,
      "outputs": []
    },
    {
      "cell_type": "code",
      "metadata": {
        "id": "OewK6DKCPXVt"
      },
      "source": [
        "season_wise_meta_df.groupby([\"Player\", \"team\"])[\"goals\"].sum()"
      ],
      "execution_count": null,
      "outputs": []
    },
    {
      "cell_type": "code",
      "metadata": {
        "id": "Puyc-ZimPd8i"
      },
      "source": [
        "num_cols = season_wise_meta_df.select_dtypes(exclude=[object]).columns"
      ],
      "execution_count": null,
      "outputs": []
    },
    {
      "cell_type": "code",
      "metadata": {
        "id": "9GYx0b_XPvG0"
      },
      "source": [
        "num_cols"
      ],
      "execution_count": null,
      "outputs": []
    },
    {
      "cell_type": "code",
      "metadata": {
        "id": "CizzkPuYP2LV"
      },
      "source": [
        "season_wise_meta_df.groupby([\"Player\"])[num_cols].sum()"
      ],
      "execution_count": null,
      "outputs": []
    },
    {
      "cell_type": "code",
      "metadata": {
        "id": "SpLLapMxP6Bl"
      },
      "source": [
        "total_df = season_wise_meta_df.groupby([\"Player\"])[num_cols].sum().round(1).reset_index()"
      ],
      "execution_count": null,
      "outputs": []
    },
    {
      "cell_type": "code",
      "metadata": {
        "id": "7fZXub2OQC8r"
      },
      "source": [
        "i = j = 1\n",
        "# Create an empty subplot:\n",
        "fig = make_subplots(rows=4, cols=4,\n",
        "                    shared_xaxes=False,\n",
        "                    vertical_spacing=0.1,\n",
        "                    subplot_titles=num_cols)\n",
        "# Add bar plot for goals conceded in all subplots:\n",
        "for col in num_cols:\n",
        "    fig.add_trace(go.Bar(x=total_df[\"Player\"],\n",
        "                        y=total_df[col],\n",
        "                        text=total_df[col],\n",
        "                        textposition=\"inside\",\n",
        "                        name=col),\n",
        "                row=i, col=j)\n",
        "    j += 1\n",
        "    if j > 4:\n",
        "        j = 1\n",
        "        i += 1\n",
        "    if i > 4:\n",
        "        i = 1\n",
        "fig.update_layout(height=800)\n",
        "fig.show()"
      ],
      "execution_count": null,
      "outputs": []
    },
    {
      "cell_type": "code",
      "metadata": {
        "id": "Af9WlAKIQR4O"
      },
      "source": [
        "i = j = 1\n",
        "# Create an empty subplot:\n",
        "fig = make_subplots(rows=4, cols=4,\n",
        "                    shared_xaxes=False,\n",
        "                    vertical_spacing=0.1,\n",
        "                    subplot_titles=num_cols)\n",
        "# Add bar plot for goals conceded in all subplots:\n",
        "for col in num_cols:\n",
        "    fig.add_trace(go.Bar(x=season_wise_meta_df[\"season\"],\n",
        "                         y=season_wise_meta_df[col],\n",
        "                         text=season_wise_meta_df[col],\n",
        "                         textposition=\"inside\",\n",
        "                         name=col),\n",
        "                row=i, col=j)\n",
        "    j += 1\n",
        "    if j > 4:\n",
        "        j = 1\n",
        "        i += 1\n",
        "    if i > 4:\n",
        "        i = 1\n",
        "fig.update_layout(height=800, barmode=\"stack\")\n",
        "fig.show()"
      ],
      "execution_count": null,
      "outputs": []
    },
    {
      "cell_type": "code",
      "metadata": {
        "id": "IRvsikodQfqf"
      },
      "source": [
        "shots_df.info()"
      ],
      "execution_count": null,
      "outputs": []
    },
    {
      "cell_type": "code",
      "metadata": {
        "id": "ZFlBVT3uQoZ4"
      },
      "source": [
        "shots_df = shots_df.apply(pd.to_numeric, errors=\"ignore\")"
      ],
      "execution_count": null,
      "outputs": []
    },
    {
      "cell_type": "code",
      "metadata": {
        "id": "VKbofR2_Qsxa"
      },
      "source": [
        "shots_df = shots_df.round(2)"
      ],
      "execution_count": null,
      "outputs": []
    },
    {
      "cell_type": "code",
      "metadata": {
        "id": "IzO6xmgRQx0r"
      },
      "source": [
        "shots_df.describe().round(1)"
      ],
      "execution_count": null,
      "outputs": []
    },
    {
      "cell_type": "code",
      "metadata": {
        "id": "ErBhygFbQ4xC"
      },
      "source": [
        "shots_df.groupby([\"Player\"]).describe().round(1)"
      ],
      "execution_count": null,
      "outputs": []
    },
    {
      "cell_type": "code",
      "metadata": {
        "id": "pAQRaDMNQ7yG"
      },
      "source": [
        "shots_df.groupby([\"Player\", \"season\"]).describe().round(1)"
      ],
      "execution_count": null,
      "outputs": []
    },
    {
      "cell_type": "code",
      "metadata": {
        "id": "YHJKd9xsRBTi"
      },
      "source": [
        "shots_df.head()"
      ],
      "execution_count": null,
      "outputs": []
    },
    {
      "cell_type": "code",
      "metadata": {
        "id": "XbcGesMGRKUW"
      },
      "source": [
        "px.histogram(data_frame=shots_df, x=\"result\", color=\"Player\",\n",
        "             barmode=\"group\", title=\"Shot Result Comparison\",\n",
        "             labels={\"result\": \"\", \"count\": \"\"})"
      ],
      "execution_count": null,
      "outputs": []
    },
    {
      "cell_type": "code",
      "metadata": {
        "id": "oiDqp-8mRR9s"
      },
      "source": [
        "px.histogram(data_frame=shots_df, x=\"situation\", color=\"Player\",\n",
        "             barmode=\"group\", title=\"Shot Play-Pattern Comparison\",\n",
        "             labels={\"situation\": \"\", \"count\": \"\"})"
      ],
      "execution_count": null,
      "outputs": []
    },
    {
      "cell_type": "code",
      "metadata": {
        "id": "6AOOJHWRRXEL"
      },
      "source": [
        "px.histogram(data_frame=shots_df, x=\"player_assisted\", color=\"Player\",\n",
        "             barmode=\"group\", title=\"Assisting Player Comparison\",\n",
        "             labels={\"result\": \"\", \"count\": \"\"})"
      ],
      "execution_count": null,
      "outputs": []
    },
    {
      "cell_type": "code",
      "metadata": {
        "id": "gtCN1OSbRfEO"
      },
      "source": [
        "px.histogram(data_frame=shots_df, x=\"h_a\", color=\"Player\",\n",
        "             barmode=\"group\", title=\"Home-Away Comparison (Shots)\",\n",
        "             labels={\"result\": \"\", \"count\": \"\"})"
      ],
      "execution_count": null,
      "outputs": []
    },
    {
      "cell_type": "code",
      "metadata": {
        "id": "elIqx9sBRmGs"
      },
      "source": [
        "px.histogram(data_frame=shots_df[shots_df[\"result\"] == \"Goal\"], x=\"h_a\", color=\"Player\",\n",
        "             barmode=\"group\", title=\"Home-Away Comparison (Goals)\",\n",
        "             labels={\"result\": \"\", \"count\": \"\"})"
      ],
      "execution_count": null,
      "outputs": []
    },
    {
      "cell_type": "code",
      "metadata": {
        "id": "Kyh5LGFJRtKE"
      },
      "source": [
        "px.histogram(data_frame=shots_df[shots_df[\"result\"] == \"MissedShots\"], x=\"h_a\", color=\"Player\",\n",
        "             barmode=\"group\", title=\"Home-Away Comparison (Goals)\",\n",
        "             labels={\"result\": \"\", \"count\": \"\"})"
      ],
      "execution_count": null,
      "outputs": []
    },
    {
      "cell_type": "code",
      "metadata": {
        "id": "dnhHWrnPRyoC"
      },
      "source": [
        "fig = px.scatter(x=\"shots\", y=\"goals\", data_frame=season_wise_meta_df,\n",
        "                 hover_name=\"season\", text=\"Player\", symbol=\"season\", size=\"npg\",\n",
        "                 opacity=.8)\n",
        "fig.update_traces(textposition='top center', textfont_size=10)\n",
        "fig.update_layout(showlegend=True, height=600, width=1200)\n",
        "fig.show()"
      ],
      "execution_count": null,
      "outputs": []
    },
    {
      "cell_type": "code",
      "metadata": {
        "id": "V3jjm0xRSEGM"
      },
      "source": [
        "fig = px.scatter(x=\"shots\", y=\"goals\", data_frame=season_wise_meta_df,\n",
        "                 hover_name=\"season\", text=\"Player\", symbol=\"season\", size=\"npg\",\n",
        "                 opacity=.8)\n",
        "fig.add_trace(go.Scatter(x=[season_wise_meta_df[\"shots\"].min(), season_wise_meta_df[\"shots\"].max() + 5],\n",
        "                         y=[season_wise_meta_df[\"goals\"].mean(), season_wise_meta_df[\"goals\"].mean()],\n",
        "                         name=\"Avg. Goals\"))\n",
        "fig.update_traces(textposition='top center', textfont_size=10)\n",
        "fig.update_layout(showlegend=True, height=800, width=1500)\n",
        "fig.show()"
      ],
      "execution_count": null,
      "outputs": []
    },
    {
      "cell_type": "code",
      "metadata": {
        "id": "MGq7dxSzSFhL"
      },
      "source": [
        "fig = px.scatter(x=\"shots\", y=\"goals\", data_frame=season_wise_meta_df,\n",
        "                 hover_name=\"season\", text=\"Player\", symbol=\"season\", size=\"npg\",\n",
        "                 opacity=.8)\n",
        "fig.add_trace(go.Scatter(x=[season_wise_meta_df[\"shots\"].mean(), season_wise_meta_df[\"shots\"].mean()],\n",
        "                         y=[season_wise_meta_df[\"goals\"].min(), season_wise_meta_df[\"goals\"].max() + 5],\n",
        "                         name=\"Avg. Shots\"))\n",
        "fig.update_traces(textposition='top center', textfont_size=10)\n",
        "fig.update_layout(showlegend=True, height=800, width=1500)\n",
        "fig.show()"
      ],
      "execution_count": null,
      "outputs": []
    },
    {
      "cell_type": "code",
      "metadata": {
        "id": "zsY6f4fiSPNh"
      },
      "source": [
        "fig = px.scatter(x=\"shots\", y=\"goals\", data_frame=season_wise_meta_df,\n",
        "                 hover_name=\"season\", text=\"Player\", symbol=\"season\", size=\"npg\",\n",
        "                 opacity=.8)\n",
        "fig.add_trace(go.Scatter(x=[season_wise_meta_df[\"shots\"].min(), season_wise_meta_df[\"shots\"].max() + 5],\n",
        "                         y=[season_wise_meta_df[\"goals\"].mean(), season_wise_meta_df[\"goals\"].mean()],\n",
        "                         name=\"Avg. Goals\"))\n",
        "fig.add_trace(go.Scatter(x=[season_wise_meta_df[\"shots\"].mean(), season_wise_meta_df[\"shots\"].mean()],\n",
        "                         y=[season_wise_meta_df[\"goals\"].min(), season_wise_meta_df[\"goals\"].max() + 5],\n",
        "                         name=\"Avg. Shots\"))\n",
        "fig.update_traces(textposition='top center', textfont_size=10)\n",
        "fig.update_layout(showlegend=True, height=800, width=1500)\n",
        "fig.show()"
      ],
      "execution_count": null,
      "outputs": []
    },
    {
      "cell_type": "code",
      "metadata": {
        "id": "rIuSGFhrSZP-"
      },
      "source": [
        "fig = px.scatter(y=\"goals\", x=\"npg\", data_frame=season_wise_meta_df,\n",
        "                 hover_name=\"season\", text=\"Player\", symbol=\"season\",\n",
        "                 opacity=.8)\n",
        "fig.add_trace(go.Scatter(x=[season_wise_meta_df[\"npg\"].min(), season_wise_meta_df[\"npg\"].max() + 5],\n",
        "                         y=[season_wise_meta_df[\"goals\"].mean(), season_wise_meta_df[\"goals\"].mean()],\n",
        "                         name=\"Avg. Goals\"))\n",
        "fig.add_trace(go.Scatter(x=[season_wise_meta_df[\"npg\"].mean(), season_wise_meta_df[\"npg\"].mean()],\n",
        "                         y=[season_wise_meta_df[\"goals\"].min(), season_wise_meta_df[\"goals\"].max() + 5],\n",
        "                         name=\"Avg. npg\"))\n",
        "fig.update_traces(textposition='top center', textfont_size=10, marker=dict(size=10))\n",
        "fig.update_layout(showlegend=True, height=800, width=1200)\n",
        "fig.show()"
      ],
      "execution_count": null,
      "outputs": []
    },
    {
      "cell_type": "code",
      "metadata": {
        "id": "AHGd6m40Skg9"
      },
      "source": [
        "fig = px.scatter(y=\"xG\", x=\"goals\", data_frame=season_wise_meta_df,\n",
        "                 hover_name=\"season\", text=\"Player\", symbol=\"season\",\n",
        "                 opacity=.8)\n",
        "fig.add_trace(go.Scatter(x=[0, season_wise_meta_df[[\"goals\", \"npg\"]].max().max() + 5],\n",
        "                         y=[0, season_wise_meta_df[[\"goals\", \"npg\"]].max().max() + 5]))\n",
        "fig.update_traces(textposition='top center', textfont_size=10, marker=dict(size=10))\n",
        "fig.update_layout(showlegend=True, height=800, width=1200)\n",
        "fig.show()"
      ],
      "execution_count": null,
      "outputs": []
    },
    {
      "cell_type": "code",
      "metadata": {
        "id": "ldJgO-m2Ss8a"
      },
      "source": [
        "fig = px.scatter(y=\"assists\", x=\"goals\", data_frame=season_wise_meta_df,\n",
        "                 hover_name=\"season\", text=\"Player\", symbol=\"season\",\n",
        "                 opacity=.8)\n",
        "fig.add_trace(go.Scatter(x=season_wise_meta_df[\"goals\"],\n",
        "                         y=[season_wise_meta_df[\"assists\"].mean()]*len(season_wise_meta_df),\n",
        "                         name=\"Avg. Assists\",\n",
        "                         marker={\"size\": .1}))\n",
        "fig.add_trace(go.Scatter(x=[season_wise_meta_df[\"goals\"].mean()]*len(season_wise_meta_df),\n",
        "                         y=season_wise_meta_df[\"assists\"],\n",
        "                         name=\"Avg. Goals\",\n",
        "                         marker={\"size\": .1}))\n",
        "fig.update_traces(textposition='top center',\n",
        "                  textfont_size=10,\n",
        "                  marker=dict(size=10))\n",
        "fig.update_layout(showlegend=True, height=800, width=1200)\n",
        "fig.show()"
      ],
      "execution_count": null,
      "outputs": []
    },
    {
      "cell_type": "code",
      "metadata": {
        "id": "cYjSEXKYS0v5"
      },
      "source": [
        "fig = px.scatter(y=\"xA\", x=\"xG\", data_frame=season_wise_meta_df,\n",
        "                 hover_name=\"season\", text=\"Player\", symbol=\"season\",\n",
        "                 opacity=.8)\n",
        "fig.add_trace(go.Scatter(x=season_wise_meta_df[\"xG\"],\n",
        "                         y=[season_wise_meta_df[\"xA\"].mean()]*len(season_wise_meta_df),\n",
        "                         name=\"Avg. xA\",\n",
        "                         marker={\"size\": .1}))\n",
        "fig.add_trace(go.Scatter(x=[season_wise_meta_df[\"xG\"].mean()]*len(season_wise_meta_df),\n",
        "                         y=season_wise_meta_df[\"xA\"],\n",
        "                         name=\"Avg. xG\",\n",
        "                         marker={\"size\": .1}))\n",
        "fig.update_traces(textposition='top center',\n",
        "                  textfont_size=10,\n",
        "                  marker=dict(size=10))\n",
        "fig.update_layout(showlegend=True, height=800, width=1200)\n",
        "fig.show()"
      ],
      "execution_count": null,
      "outputs": []
    },
    {
      "cell_type": "code",
      "metadata": {
        "id": "pQPZEdVTS5ib"
      },
      "source": [
        "fig = px.scatter(x=\"xGChain\", y=\"xGBuildup\", data_frame=season_wise_meta_df,\n",
        "                 hover_name=\"season\", text=\"Player\", symbol=\"season\",\n",
        "                 opacity=.8)\n",
        "fig.add_trace(go.Scatter(x=season_wise_meta_df[\"xGChain\"],\n",
        "                         y=[season_wise_meta_df[\"xGBuildup\"].mean()]*len(season_wise_meta_df),\n",
        "                         name=\"Avg. xGBuildup\",\n",
        "                         marker={\"size\": .1}))\n",
        "fig.add_trace(go.Scatter(x=[season_wise_meta_df[\"xGChain\"].mean()]*len(season_wise_meta_df),\n",
        "                         y=season_wise_meta_df[\"xGBuildup\"],\n",
        "                         name=\"Avg. xGChain\",\n",
        "                         marker={\"size\": .1}))\n",
        "\n",
        "fig.update_traces(textposition='top center',\n",
        "                  textfont_size=10,\n",
        "                  marker=dict(size=10))\n",
        "fig.update_layout(showlegend=True, height=800, width=1200)\n",
        "fig.show()"
      ],
      "execution_count": null,
      "outputs": []
    },
    {
      "cell_type": "code",
      "metadata": {
        "id": "PpJkK-EnTFJD"
      },
      "source": [
        "# Setting boundaries and midpoint:\n",
        "x_lims = [0, 1.15]\n",
        "y_lims = [0, 0.74]\n",
        "\n",
        "x_mid = x_lims[1]/2\n",
        "y_mid = y_lims[1]/2\n",
        "\n",
        "# Setting color and linewidth:\n",
        "background_color = \"black\"\n",
        "line_color = \"white\"\n",
        "line_width = 2."
      ],
      "execution_count": null,
      "outputs": []
    },
    {
      "cell_type": "code",
      "metadata": {
        "id": "BiAXCstrTQ1V"
      },
      "source": [
        "#@title\n",
        "def create_full_pitch(x_lims, y_lims, background_color=\"white\", line_color=\"black\", line_width=2.):\n",
        "    \"\"\"\n",
        "    Function to create a full-scale pitch based on input dimensions\n",
        "    :params:\n",
        "    x_lims: min and max limits for the length of the field\n",
        "    y_lims: min and max limits for the width/breadth of the field\n",
        "    background_color: Background color of the field\n",
        "    line_color: Color for all the lines in the field (Keep this color in contrast with background_color for optimal visual results)\n",
        "    line_width: The thickness of the outer and center lines\n",
        "    \"\"\"\n",
        "    # Create figure:\n",
        "    fig = plt.figure(facecolor=background_color, figsize=(12, 7))\n",
        "    ax = fig.add_subplot(111, facecolor=background_color)\n",
        "\n",
        "    # Pitch Outline & Centre Line\n",
        "    plt.plot([x_lims[0], x_lims[0]], [y_lims[0], y_lims[1]], linewidth=line_width, color=line_color)  # left goal-line\n",
        "    plt.plot([x_lims[0], x_lims[1]], [y_lims[1], y_lims[1]], linewidth=line_width, color=line_color)  # Upper side-line\n",
        "    plt.plot([x_lims[1], x_lims[1]], [y_lims[1], y_lims[0]], linewidth=line_width, color=line_color)  # Right goal-line\n",
        "    plt.plot([x_lims[1], x_lims[0]], [y_lims[0], y_lims[0]], linewidth=line_width, color=line_color)  # Lower side-line\n",
        "    plt.plot([x_mid, x_mid], [y_lims[0], y_lims[1]], linewidth=line_width, color=line_color)  # Center line\n",
        "\n",
        "    # Left Penalty Area\n",
        "    plt.plot([x_lims[0]+.18, x_lims[0]+.18], [y_mid - .22, y_mid + .22], color=line_color)\n",
        "    plt.plot([x_lims[0], x_lims[0]+.18], [y_mid + .22, y_mid + .22], color=line_color)\n",
        "    plt.plot([x_lims[0], x_lims[0]+.18], [y_mid - .22, y_mid - .22], color=line_color)\n",
        "\n",
        "    # Right Penalty Area\n",
        "    plt.plot([x_lims[1] - .18, x_lims[1] - .18], [y_mid - .22, y_mid + .22], color=line_color)\n",
        "    plt.plot([x_lims[1], x_lims[1] - .18], [y_mid + .22, y_mid + .22], color=line_color)\n",
        "    plt.plot([x_lims[1], x_lims[1] - .18], [y_mid - .22, y_mid - .22], color=line_color)\n",
        "\n",
        "    # Left 6yd box Area\n",
        "    plt.plot([x_lims[0]+.06, x_lims[0]+.06], [y_mid - .06, y_mid + .06], color=line_color)\n",
        "    plt.plot([x_lims[0], x_lims[0]+.06], [y_mid + .06, y_mid + .06], color=line_color)\n",
        "    plt.plot([x_lims[0], x_lims[0]+.06], [y_mid - .06, y_mid - .06], color=line_color)\n",
        "\n",
        "    # # Right 6yd box Area\n",
        "    plt.plot([x_lims[1] - .06, x_lims[1] - .06], [y_mid - .06, y_mid + .06], color=line_color)\n",
        "    plt.plot([x_lims[1], x_lims[1] - .06], [y_mid + .06, y_mid + .06], color=line_color)\n",
        "    plt.plot([x_lims[1], x_lims[1] - .06], [y_mid - .06, y_mid - .06], color=line_color)\n",
        "\n",
        "    # Prepare Circles\n",
        "    centre_circle = plt.Circle((x_mid, y_mid), .1, color=line_color, fill=False)\n",
        "    centre_spot = plt.Circle((x_mid, y_mid), 0.005, color=line_color)\n",
        "    left_pen_spot = plt.Circle((x_lims[0]+0.12, y_mid), 0.005, color=line_color)\n",
        "    right_pen_spot = plt.Circle((x_lims[1] - 0.12, y_mid), 0.005, color=line_color)\n",
        "\n",
        "    # Draw Circles\n",
        "    ax.add_patch(centre_circle)\n",
        "    ax.add_patch(centre_spot)\n",
        "    ax.add_patch(left_pen_spot)\n",
        "    ax.add_patch(right_pen_spot)\n",
        "\n",
        "    # Prepare Arcs\n",
        "    left_arc = Arc((x_lims[0] + .12, y_mid), height=.183, width=.183, angle=0, theta1=310, theta2=50, color=line_color)\n",
        "    right_arc = Arc((x_lims[1] - .12, y_mid), height=.183, width=.183, angle=0, theta1=130, theta2=230, color=line_color)\n",
        "\n",
        "    # Draw Arcs\n",
        "    ax.add_patch(left_arc)\n",
        "    ax.add_patch(right_arc)\n",
        "\n",
        "    plt.axis(\"off\")\n",
        "\n",
        "    return ax"
      ],
      "execution_count": null,
      "outputs": []
    },
    {
      "cell_type": "code",
      "metadata": {
        "id": "pFa9cVk0TbB9"
      },
      "source": [
        "shots_df[\"X\"] = shots_df[\"X\"].multiply(x_lims[1])\n",
        "shots_df[\"Y\"] = shots_df[\"Y\"].multiply(y_lims[1])"
      ],
      "execution_count": null,
      "outputs": []
    },
    {
      "cell_type": "code",
      "metadata": {
        "id": "q8osYxDqTlFj"
      },
      "source": [
        "ax1 = create_full_pitch(x_lims, y_lims)\n",
        "\n",
        "sns.scatterplot(x=\"X\", y=\"Y\", data=shots_df[shots_df[\"Player\"] == \"Cristiano\"], size=\"xG\", ax=ax1)\n",
        "\n",
        "ax1.set_xlim([x_mid, x_lims[1]])\n",
        "ax1.set_ylim(y_lims)"
      ],
      "execution_count": null,
      "outputs": []
    },
    {
      "cell_type": "code",
      "metadata": {
        "id": "caT-AIeuTrHz"
      },
      "source": [
        "ax2 = create_full_pitch(x_lims, y_lims)\n",
        "\n",
        "sns.scatterplot(x=\"X\", y=\"Y\", data=shots_df[shots_df[\"Player\"] == \"Messi\"], size=\"xG\", ax=ax2)\n",
        "\n",
        "ax2.set_xlim([x_mid, x_lims[1]])\n",
        "ax2.set_ylim(y_lims)"
      ],
      "execution_count": null,
      "outputs": []
    },
    {
      "cell_type": "code",
      "metadata": {
        "id": "uR4z248qTwp2"
      },
      "source": [
        "ax1 = create_full_pitch(x_lims, y_lims)\n",
        "\n",
        "sns.kdeplot(x=\"X\", y=\"Y\", data=shots_df[shots_df[\"Player\"] == \"Cristiano\"], shade=True, n_levels=10, ax=ax1)\n",
        "\n",
        "ax1.set_xlim([x_mid, x_lims[1]])\n",
        "ax1.set_ylim(y_lims)"
      ],
      "execution_count": null,
      "outputs": []
    },
    {
      "cell_type": "code",
      "metadata": {
        "id": "bNI7y-tmT3i1"
      },
      "source": [
        "ax1 = create_full_pitch(x_lims, y_lims)\n",
        "\n",
        "sns.kdeplot(x=\"X\", y=\"Y\", data=shots_df[shots_df[\"Player\"] == \"Messi\"], shade=True, n_levels=10, ax=ax1)\n",
        "\n",
        "ax1.set_xlim([x_mid, x_lims[1]])\n",
        "ax1.set_ylim(y_lims)"
      ],
      "execution_count": null,
      "outputs": []
    },
    {
      "cell_type": "code",
      "metadata": {
        "id": "ujHMLXw_T85Q"
      },
      "source": [
        "season_wise_meta_df"
      ],
      "execution_count": null,
      "outputs": []
    },
    {
      "cell_type": "code",
      "metadata": {
        "id": "gNxt4KUHUFAi"
      },
      "source": [
        "radar_df = season_wise_meta_df.groupby([\"Player\"])[num_cols].sum().reset_index()"
      ],
      "execution_count": null,
      "outputs": []
    },
    {
      "cell_type": "code",
      "metadata": {
        "id": "Ht5tEFSLUKt4"
      },
      "source": [
        "radar_df"
      ],
      "execution_count": null,
      "outputs": []
    },
    {
      "cell_type": "code",
      "metadata": {
        "id": "shLOpxtUUQ5W"
      },
      "source": [
        "radar_df.columns"
      ],
      "execution_count": null,
      "outputs": []
    },
    {
      "cell_type": "code",
      "metadata": {
        "id": "cYrR4yRkUWLw"
      },
      "source": [
        "cols_for_radar = ['goals', 'shots', 'xG',\n",
        "                  'assists', 'xA', 'key_passes',\n",
        "                  'npg', 'npxG', 'xGChain', 'xGBuildup']"
      ],
      "execution_count": null,
      "outputs": []
    },
    {
      "cell_type": "code",
      "metadata": {
        "id": "eyZdIeFmUZkX"
      },
      "source": [
        "# Initiate the plotly go figure\n",
        "fig = go.Figure()\n",
        "# Add Radar plots for different players:\n",
        "fig.add_trace(go.Scatterpolar(\n",
        "    r=radar_df.loc[(radar_df[\"Player\"] == \"Cristiano\"), cols_for_radar].values.flatten(),\n",
        "    theta=cols_for_radar,\n",
        "    fill='toself',\n",
        "    name='Cristiano'))\n",
        "fig.add_trace(go.Scatterpolar(\n",
        "    r=radar_df.loc[(radar_df[\"Player\"] == \"Messi\"), cols_for_radar].values.flatten(),\n",
        "    theta=cols_for_radar,\n",
        "    fill='toself',\n",
        "    name=\"Messi\"))\n",
        "# Additional properties for the plot:\n",
        "fig.update_layout(\n",
        "    title=\"Cristiano vs Messi\",\n",
        "polar=dict(\n",
        "    radialaxis=dict(\n",
        "    visible=True,\n",
        "    )),\n",
        "showlegend=True\n",
        ")\n",
        "fig.show()"
      ],
      "execution_count": null,
      "outputs": []
    },
    {
      "cell_type": "code",
      "metadata": {
        "id": "eFamyLS1Uhy1"
      },
      "source": [
        "per90Cols = ['goals', 'shots', 'xG',\n",
        "             'assists', 'xA', 'key_passes',\n",
        "             'npg', 'npxG', 'xGChain', 'xGBuildup']\n",
        "\n",
        "for col in per90Cols:\n",
        "    radar_df[col + \"Per90\"] = radar_df[col].divide(radar_df[\"time\"]).multiply(90)"
      ],
      "execution_count": null,
      "outputs": []
    },
    {
      "cell_type": "code",
      "metadata": {
        "id": "Bv27OTE8WuwG"
      },
      "source": [
        "radar_df[cols_for_radar]"
      ],
      "execution_count": null,
      "outputs": []
    },
    {
      "cell_type": "code",
      "metadata": {
        "id": "Yp0-oTNQW0yu"
      },
      "source": [
        "# Initiate the plotly go figure\n",
        "fig = go.Figure()\n",
        "# Add Radar plots for different players:\n",
        "fig.add_trace(go.Scatterpolar(\n",
        "    r=radar_df.loc[(radar_df[\"Player\"] == \"Cristiano\"), cols_for_radar].sum(),\n",
        "    theta=cols_for_radar,\n",
        "    fill='toself',\n",
        "    name='Cristiano'))\n",
        "fig.add_trace(go.Scatterpolar(\n",
        "    r=radar_df.loc[(radar_df[\"Player\"] == \"Messi\"), cols_for_radar].sum(),\n",
        "    theta=cols_for_radar,\n",
        "    fill='toself',\n",
        "    name=\"Messi\"))\n",
        "# Additional properties for the plot:\n",
        "fig.update_layout(\n",
        "    title=\"Cristiano vs Messi\",\n",
        "polar=dict(\n",
        "    radialaxis=dict(\n",
        "    visible=True,\n",
        "    )),\n",
        "showlegend=True\n",
        ")\n",
        "fig.show()"
      ],
      "execution_count": null,
      "outputs": []
    }
  ]
}